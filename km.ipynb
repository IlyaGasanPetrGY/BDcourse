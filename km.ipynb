{
  "cells": [
    {
      "cell_type": "markdown",
      "metadata": {
        "id": "view-in-github",
        "colab_type": "text"
      },
      "source": [
        "<a href=\"https://colab.research.google.com/github/IlyaGasanPetrGY/BDcourse/blob/main/km.ipynb\" target=\"_parent\"><img src=\"https://colab.research.google.com/assets/colab-badge.svg\" alt=\"Open In Colab\"/></a>"
      ]
    },
    {
      "cell_type": "code",
      "execution_count": null,
      "metadata": {
        "id": "41rrLLbD_Hfn"
      },
      "outputs": [],
      "source": [
        "from PIL import Image\n",
        "import random\n",
        "import math\n",
        "import pandas as pd\n",
        "import matplotlib.pyplot as plt\n",
        "from mpl_toolkits.mplot3d import Axes3D\n",
        "import numpy as np"
      ]
    },
    {
      "cell_type": "code",
      "execution_count": null,
      "metadata": {
        "colab": {
          "base_uri": "https://localhost:8080/"
        },
        "id": "PNwDfeiO_d_0",
        "outputId": "f0978bfe-dfa8-408c-8758-ee50f94026ab"
      },
      "outputs": [
        {
          "output_type": "stream",
          "name": "stdout",
          "text": [
            "(37, 55, 59)\n",
            "(32, 32)\n"
          ]
        }
      ],
      "source": [
        "im = Image.open('pl.jpg') # Can be many different formats.\n",
        "pix = im.load()\n",
        "sizeimg = im.size # Get the width and hight of the image for iterating over\n",
        "print(pix[10,10])\n",
        "print(sizeimg)"
      ]
    },
    {
      "cell_type": "code",
      "execution_count": null,
      "metadata": {
        "colab": {
          "base_uri": "https://localhost:8080/"
        },
        "id": "ZV2xupMN_glB",
        "outputId": "84e4688a-5bef-46c7-ee91-5022d06abef9"
      },
      "outputs": [
        {
          "output_type": "stream",
          "name": "stdout",
          "text": [
            "(32, 32)\n"
          ]
        }
      ],
      "source": [
        "m = sizeimg[0]*sizeimg[1]\n",
        "\n",
        "n = 3\n",
        "\n",
        "count_clast4ers = 3\n",
        "\n",
        "midle_clasters = [[random.randint(0, 255), random.randint(0, 255), random.randint(0, 255) ] for i in range(n)]\n",
        "midle_clasters\n",
        "\n",
        "counter = 0\n",
        "color_list = []\n",
        "print(sizeimg)\n",
        "for i in range(sizeimg[0]):\n",
        "    for j in range(sizeimg[1]):\n",
        "        color_list.append(list(pix[i, j]))\n",
        "\n",
        "color_list\n",
        "df = pd.DataFrame(color_list, columns=['r', 'g', 'b'])\n",
        "df['alpha'] = df.apply(lambda x: (x['r']+x['g']+x['b'])/(255*3), axis=1)\n",
        "\n"
      ]
    },
    {
      "cell_type": "code",
      "execution_count": null,
      "metadata": {
        "id": "zWNdiGt6_rbY"
      },
      "outputs": [],
      "source": [
        "df['color'] = df.apply(lambda x: [round(x['r']/255,2), round(x['r']/255,2), round(x['r']/255,2)], axis=1)\n",
        "df_list = df['color'].tolist()"
      ]
    },
    {
      "cell_type": "code",
      "execution_count": null,
      "metadata": {
        "id": "oX9hvX-A_urC"
      },
      "outputs": [],
      "source": []
    },
    {
      "cell_type": "code",
      "execution_count": null,
      "metadata": {
        "id": "3ssNN-qI_wqh"
      },
      "outputs": [],
      "source": [
        "def evkild_dist(claster_middle:list, point:list):\n",
        "    dist = math.sqrt((claster_middle[0] - point[0])**2 + (claster_middle[1] - point[1])**2 + (claster_middle[2] - point[2])**2)\n",
        "    return dist"
      ]
    },
    {
      "cell_type": "code",
      "execution_count": null,
      "metadata": {
        "id": "THzTEh9K_yfZ"
      },
      "outputs": [],
      "source": [
        "min_evkild = 30000000000\n",
        "claster_min_number = 0\n",
        "\n",
        "classters_array = []\n",
        "arrayTest = []\n",
        "sum_in_one = 0\n",
        "for i in color_list:\n",
        "    min_evkild = 30000000000\n",
        "    claster_min_number = 300\n",
        "    for j in range(len(midle_clasters)):\n",
        "\n",
        "        if min_evkild > evkild_dist(midle_clasters[j], i):\n",
        "\n",
        "            min_evkild = evkild_dist(midle_clasters[j], i)\n",
        "            claster_min_number = j\n",
        "    arrayTest.append(j)\n",
        "    if claster_min_number == 1:\n",
        "        sum_in_one +=1\n",
        "    classters_array.append(claster_min_number)"
      ]
    },
    {
      "cell_type": "code",
      "execution_count": null,
      "metadata": {
        "colab": {
          "base_uri": "https://localhost:8080/"
        },
        "id": "Yi7P87BJCLyX",
        "outputId": "28ad68a0-7a1c-489a-ee82-9e005bd64aed"
      },
      "outputs": [
        {
          "output_type": "stream",
          "name": "stdout",
          "text": [
            "[1, 1, 1, 1, 1, 1, 1, 1, 1, 1, 1, 1, 1, 1, 1, 1, 1, 1, 1, 1, 1, 1, 1, 1, 1, 1, 1, 1, 1, 1, 1, 1, 1, 1, 1, 1, 1, 1, 1, 1, 1, 1, 1, 1, 1, 1, 1, 1, 1, 1, 1, 1, 1, 1, 1, 1, 1, 1, 1, 1, 1, 1, 1, 1, 1, 1, 1, 1, 1, 1, 1, 1, 1, 1, 1, 0, 0, 2, 1, 1, 1, 1, 1, 1, 1, 1, 1, 1, 1, 1, 1, 1, 1, 1, 1, 1, 1, 1, 1, 1]\n"
          ]
        }
      ],
      "source": [
        "print(classters_array[:100])"
      ]
    },
    {
      "cell_type": "code",
      "execution_count": null,
      "metadata": {
        "colab": {
          "base_uri": "https://localhost:8080/"
        },
        "id": "CYYfH-CyRM1e",
        "outputId": "7ca36b68-e193-4a08-dbee-065722e1e7d8"
      },
      "outputs": [
        {
          "output_type": "stream",
          "name": "stdout",
          "text": [
            "[[15830, 17877, 18606], [87279, 96393, 50742], [6600, 7975, 9204]]\n"
          ]
        },
        {
          "output_type": "execute_result",
          "data": {
            "text/plain": [
              "[[137.65217391304347, 155.45217391304348, 161.7913043478261],\n",
              " [103.0448642266824, 113.8051948051948, 59.90791027154663],\n",
              " [106.45161290322581, 128.6290322580645, 148.4516129032258]]"
            ]
          },
          "metadata": {},
          "execution_count": 10
        }
      ],
      "source": [
        "array_to_middle = [0]*n\n",
        "\n",
        "counter = 0\n",
        "# for l in range(n):\n",
        "for f in range(n):\n",
        "  array_to_middle_rgb = [0]*3\n",
        "  for i in range(len(classters_array)):\n",
        "    if classters_array[i] == f:\n",
        "      array_to_middle_rgb[0] += color_list[i][0]\n",
        "      array_to_middle_rgb[1] += color_list[i][1]\n",
        "      array_to_middle_rgb[2] += color_list[i][2]\n",
        "  midle_clasters[f] = array_to_middle_rgb\n",
        "print(midle_clasters)\n",
        "for i in range(n):\n",
        "  count = classters_array.count(i)\n",
        "  for j in range(3):\n",
        "    if count!=0:\n",
        "      midle_clasters[i][j] = midle_clasters[i][j]/count\n",
        "midle_clasters"
      ]
    },
    {
      "cell_type": "code",
      "execution_count": null,
      "metadata": {
        "id": "A6Xg8WSBWy9m"
      },
      "outputs": [],
      "source": [
        "pred_array_middle = [0, 0, 0]\n",
        "for z in range(50):\n",
        "  pred_array_middle = midle_clasters\n",
        "  min_evkild = 30000000000\n",
        "  claster_min_number = 0\n",
        "\n",
        "  classters_array = []\n",
        "  arrayTest = []\n",
        "  sum_in_one = 0\n",
        "  for i in color_list:\n",
        "      min_evkild = 30000000000\n",
        "      claster_min_number = 300\n",
        "      for j in range(len(midle_clasters)):\n",
        "\n",
        "          if min_evkild > evkild_dist(midle_clasters[j], i):\n",
        "\n",
        "              min_evkild = evkild_dist(midle_clasters[j], i)\n",
        "              claster_min_number = j\n",
        "      arrayTest.append(j)\n",
        "      if claster_min_number == 1:\n",
        "          sum_in_one +=1\n",
        "      classters_array.append(claster_min_number)\n",
        "  array_to_middle = [0]*n\n",
        "\n",
        "  counter = 0\n",
        "  # for l in range(n):\n",
        "  for f in range(n):\n",
        "    array_to_middle_rgb = [0]*3\n",
        "    for i in range(len(classters_array)):\n",
        "      if classters_array[i] == f:\n",
        "        array_to_middle_rgb[0] += color_list[i][0]\n",
        "        array_to_middle_rgb[1] += color_list[i][1]\n",
        "        array_to_middle_rgb[2] += color_list[i][2]\n",
        "    midle_clasters[f] = array_to_middle_rgb\n",
        "\n",
        "  for i in range(n):\n",
        "    count = classters_array.count(i)\n",
        "    for j in range(3):\n",
        "      if count !=0:\n",
        "        midle_clasters[i][j] = int(round(midle_clasters[i][j]/count))\n",
        "  midle_clasters\n",
        "\n"
      ]
    },
    {
      "cell_type": "code",
      "execution_count": null,
      "metadata": {
        "colab": {
          "base_uri": "https://localhost:8080/"
        },
        "id": "5bMUYn_EdxEp",
        "outputId": "e5b4ea87-b8e7-41d4-bc50-92ec57323018"
      },
      "outputs": [
        {
          "output_type": "execute_result",
          "data": {
            "text/plain": [
              "[(102, 112, 56),\n",
              " (102, 112, 56),\n",
              " (102, 112, 56),\n",
              " (102, 112, 56),\n",
              " (102, 112, 56),\n",
              " (102, 112, 56),\n",
              " (102, 112, 56),\n",
              " (102, 112, 56),\n",
              " (102, 112, 56),\n",
              " (102, 112, 56),\n",
              " (102, 112, 56),\n",
              " (102, 112, 56),\n",
              " (102, 112, 56),\n",
              " (102, 112, 56),\n",
              " (102, 112, 56),\n",
              " (102, 112, 56),\n",
              " (102, 112, 56),\n",
              " (102, 112, 56),\n",
              " (102, 112, 56),\n",
              " (102, 112, 56),\n",
              " (102, 112, 56),\n",
              " (102, 112, 56),\n",
              " (102, 112, 56),\n",
              " (102, 112, 56),\n",
              " (102, 112, 56),\n",
              " (102, 112, 56),\n",
              " (102, 112, 56),\n",
              " (102, 112, 56),\n",
              " (102, 112, 56),\n",
              " (102, 112, 56)]"
            ]
          },
          "metadata": {},
          "execution_count": 12
        }
      ],
      "source": [
        "colors_pixels = []\n",
        "for i in range(len(classters_array)):\n",
        "  colors_pixels.append(tuple(midle_clasters[classters_array[i]]))\n",
        "colors_pixels[:30]"
      ]
    },
    {
      "cell_type": "code",
      "execution_count": null,
      "metadata": {
        "id": "FxxCHh5oQxam"
      },
      "outputs": [],
      "source": [
        "number_str_pixel = 0\n",
        "\n",
        "\n",
        "\n",
        "image_array_ready = []\n",
        "test_image = [midle_clasters[i] for i in classters_array]\n",
        "# for i in range(len(colors_pixels)):\n",
        "start = 0\n",
        "for i in range(0, im.size[0]*im.size[1] - im.size[0], im.size[0]):\n",
        "  image_array_ready.append(colors_pixels[i:i+im.size[0]])\n",
        "\n"
      ]
    },
    {
      "cell_type": "code",
      "execution_count": null,
      "metadata": {
        "id": "8xvaLrreWlwj"
      },
      "outputs": [],
      "source": [
        "number_str_pixel = 0\n",
        "\n",
        "\n",
        "\n",
        "image_array_ready_clasters = []\n",
        "test_image = [midle_clasters[i] for i in classters_array]\n",
        "# for i in range(len(colors_pixels)):\n",
        "start = 0\n",
        "for i in range(0, n):\n",
        "  # image_array_ready_clasters.append(colors_pixels[i:i+im.size[0]])\n",
        "  new_array =[]\n",
        "\n",
        "  for j in range(30):\n",
        "    new_array.append(midle_clasters[i])\n",
        "  for i in range(100):\n",
        "    image_array_ready_clasters.append(new_array)\n",
        "  \n"
      ]
    },
    {
      "cell_type": "code",
      "execution_count": null,
      "metadata": {
        "id": "WUb37dPIXwYb"
      },
      "outputs": [],
      "source": [
        "array = np.array(image_array_ready, dtype=np.uint8)\n",
        "new_image = Image.fromarray(array)\n",
        "new_image.save('s.jpg')"
      ]
    },
    {
      "cell_type": "code",
      "source": [
        "array = np.array(image_array_ready_clasters, dtype=np.uint8)\n",
        "\n",
        "new_image = Image.fromarray(array)\n",
        "new_image.save('clasters.jpg')"
      ],
      "metadata": {
        "id": "7EQuVuIU0eHG"
      },
      "execution_count": null,
      "outputs": []
    },
    {
      "cell_type": "code",
      "execution_count": null,
      "metadata": {
        "colab": {
          "base_uri": "https://localhost:8080/"
        },
        "id": "4Kj0xF45ydh4",
        "outputId": "f5041abe-32a2-4a54-b322-a06e0a4ee0b9"
      },
      "outputs": [
        {
          "output_type": "stream",
          "name": "stdout",
          "text": [
            "[]\n",
            "(32, 32)\n"
          ]
        }
      ],
      "source": [
        "print(colors_pixels[1600:1700])\n",
        "print(im.size)\n"
      ]
    },
    {
      "cell_type": "code",
      "execution_count": null,
      "metadata": {
        "id": "TTDtVY3H4f3W",
        "colab": {
          "base_uri": "https://localhost:8080/"
        },
        "outputId": "8a70165d-1f77-486d-9dbc-ba4a7e3bdeaa"
      },
      "outputs": [
        {
          "output_type": "stream",
          "name": "stdout",
          "text": [
            "range(0, 30)\n"
          ]
        }
      ],
      "source": [
        "print(range(30))\n"
      ]
    },
    {
      "cell_type": "code",
      "source": [],
      "metadata": {
        "id": "JUeSmhcOcYO2"
      },
      "execution_count": null,
      "outputs": []
    },
    {
      "cell_type": "code",
      "source": [],
      "metadata": {
        "id": "449D0-LScrCz"
      },
      "execution_count": null,
      "outputs": []
    }
  ],
  "metadata": {
    "colab": {
      "provenance": [],
      "authorship_tag": "ABX9TyOB1E2cZdFvRz2xiP49WbTM",
      "include_colab_link": true
    },
    "gpuClass": "standard",
    "kernelspec": {
      "display_name": "Python 3",
      "name": "python3"
    },
    "language_info": {
      "name": "python"
    }
  },
  "nbformat": 4,
  "nbformat_minor": 0
}